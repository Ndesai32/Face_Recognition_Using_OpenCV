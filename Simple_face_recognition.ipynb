{
 "cells": [
  {
   "cell_type": "code",
   "execution_count": 5,
   "metadata": {},
   "outputs": [],
   "source": [
    "import cv2\n",
    "import numpy as np\n",
    "import face_recognition"
   ]
  },
  {
   "cell_type": "code",
   "execution_count": 13,
   "metadata": {},
   "outputs": [
    {
     "data": {
      "text/plain": [
       "-1"
      ]
     },
     "execution_count": 13,
     "metadata": {},
     "output_type": "execute_result"
    }
   ],
   "source": [
    "img_virat = face_recognition.load_image_file(\"Image/virat_kohli.png\")\n",
    "img_virat = cv2.cvtColor(img_virat,cv2.COLOR_BGR2RGB)\n",
    "\n",
    "\n",
    "faceLoc = face_recognition.face_locations(img_virat)[0]\n",
    "encoder_virat = face_recognition.face_encodings(img_virat)[0]\n",
    "cv2.rectangle(img_virat,(faceLoc[3],faceLoc[0]),(faceLoc[1],faceLoc[2]),(51,51,255),2)\n",
    "\n",
    "\n",
    "cv2.putText(img_virat,f'VIRAT KOHLI',(250,270),cv2.FONT_HERSHEY_COMPLEX,1,(255,255,255),2)\n",
    "\n",
    "cv2.imshow(\"Virat_Kohli\",img_virat)\n",
    "cv2.waitKey(0)"
   ]
  }
 ],
 "metadata": {
  "kernelspec": {
   "display_name": "Python 3",
   "language": "python",
   "name": "python3"
  },
  "language_info": {
   "codemirror_mode": {
    "name": "ipython",
    "version": 3
   },
   "file_extension": ".py",
   "mimetype": "text/x-python",
   "name": "python",
   "nbconvert_exporter": "python",
   "pygments_lexer": "ipython3",
   "version": "3.7.6"
  }
 },
 "nbformat": 4,
 "nbformat_minor": 4
}
